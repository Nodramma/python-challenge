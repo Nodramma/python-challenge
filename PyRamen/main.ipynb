{
 "cells": [
  {
   "cell_type": "code",
   "execution_count": 1,
   "id": "468f13ca-dbf7-446a-b290-ea2ef1084c61",
   "metadata": {},
   "outputs": [],
   "source": [
    "# Import the pathlib and csv library\n",
    "from pathlib import Path\n",
    "import csv"
   ]
  },
  {
   "cell_type": "code",
   "execution_count": 2,
   "id": "f88c7277-28e4-4ca7-89fb-afee7450c711",
   "metadata": {},
   "outputs": [],
   "source": [
    "# Set the file path\n",
    "filepath = Path(\"./menu_data.csv\")"
   ]
  },
  {
   "cell_type": "code",
   "execution_count": 3,
   "id": "607b8b37-34e9-4025-b5c7-eb240f93378d",
   "metadata": {},
   "outputs": [],
   "source": [
    "menu = [] #empty list"
   ]
  },
  {
   "cell_type": "code",
   "execution_count": 4,
   "id": "f1c06d3e-816a-4b97-a608-0ddb0d1ed4e2",
   "metadata": {},
   "outputs": [],
   "source": [
    "# Open the menu_data.csv in \"read\" mode ('r') and\n",
    "# store the contents in the variable 'file'\n",
    "with open(filepath, 'r') as file:\n",
    "    csvreader = csv.reader(file)\n",
    "    \n",
    "    next(csvreader) #skip header\n",
    "    \n",
    "    for row in csvreader:\n",
    "        menu.append(row)"
   ]
  },
  {
   "cell_type": "code",
   "execution_count": 5,
   "id": "3271a444-ae5e-48c6-93d5-ab43f162aec0",
   "metadata": {},
   "outputs": [],
   "source": [
    "filepath2 = Path(\"./sales_data.csv\")"
   ]
  },
  {
   "cell_type": "code",
   "execution_count": 6,
   "id": "ddf04e7b-17bd-47ed-8769-e6cfc31d5c0c",
   "metadata": {},
   "outputs": [],
   "source": [
    "sales = [] #empty list"
   ]
  },
  {
   "cell_type": "code",
   "execution_count": 7,
   "id": "65e2c116-ced6-4a04-b6f2-23da129b6689",
   "metadata": {},
   "outputs": [],
   "source": [
    "# Open the sales_data.csv in \"read\" mode ('r') and\n",
    "# store the contents in the variable 'file2'\n",
    "with open(filepath2, 'r') as file2:\n",
    "    csvreader2 = csv.reader(file2)\n",
    "    \n",
    "    next(csvreader2) #skip header\n",
    "    \n",
    "    for row in csvreader2:\n",
    "        sales.append(row)"
   ]
  },
  {
   "cell_type": "code",
   "execution_count": 8,
   "id": "acaaa238-1aa8-4d07-ba62-e29bdba7b6ef",
   "metadata": {},
   "outputs": [],
   "source": [
    "report = {} # Empty dictionary"
   ]
  },
  {
   "cell_type": "code",
   "execution_count": 9,
   "id": "dbc0dd83-c670-4c57-8e49-54f9328b2b4c",
   "metadata": {},
   "outputs": [],
   "source": [
    "starting_point = {\n",
    "\"01-count\": 0,\n",
    "\"02-revenue\": 0,\n",
    "\"03-cogs\": 0,\n",
    "\"04-profit\": 0,\n",
    "}"
   ]
  },
  {
   "cell_type": "code",
   "execution_count": 13,
   "id": "a2991ac0-ab47-4cd4-9db9-13089468e33b",
   "metadata": {},
   "outputs": [],
   "source": [
    "for sale in sales: #We loop through every element in sales\n",
    "    \n",
    "    quantity = int(sale[3]) # we get the quantity\n",
    "    menu_item = sale[4] # we get the menu item\n",
    "    \n",
    "    if menu_item not in report: #check if the item is in the report\n",
    "        report[menu_item] = starting_point.copy() # if not do this\n",
    "    \n",
    "    for menu_element in menu:\n",
    "        item = menu_element[0]\n",
    "        price = float(menu_element[3])\n",
    "        cost = float(menu_element[4])\n",
    "        \n",
    "        profit = price - cost\n",
    "        \n",
    "        if menu_item == item:\n",
    "            report[menu_item][\"01-count\"] += quantity\n",
    "            report[menu_item][\"02-revenue\"] += price * quantity\n",
    "            report[menu_item][\"03-cogs\"] += cost * quantity\n",
    "            report[menu_item][\"04-profit\"] += profit * quantity\n",
    "            \"\"\"\n",
    "        else:\n",
    "            print(f\"{menu_item} does not equal {item}! NO MATCH!\")\n",
    "            \"\"\""
   ]
  },
  {
   "cell_type": "code",
   "execution_count": 14,
   "id": "9abcd756-3aba-48b7-831c-ef2d563cd5e2",
   "metadata": {},
   "outputs": [],
   "source": [
    "with open('summary_ramen.txt', 'w') as f:\n",
    "    for key, value in report.items():\n",
    "        output = f\"{key} {value}\\n\"\n",
    "        f.write(output)"
   ]
  },
  {
   "cell_type": "code",
   "execution_count": null,
   "id": "83eceac9-c1e5-4392-8a5e-a258cf6ecbf4",
   "metadata": {},
   "outputs": [],
   "source": []
  },
  {
   "cell_type": "code",
   "execution_count": null,
   "id": "3098fe69-fb4f-4a18-9ab5-ba300d9de7de",
   "metadata": {},
   "outputs": [],
   "source": []
  }
 ],
 "metadata": {
  "kernelspec": {
   "display_name": "Python 3 (ipykernel)",
   "language": "python",
   "name": "python3"
  },
  "language_info": {
   "codemirror_mode": {
    "name": "ipython",
    "version": 3
   },
   "file_extension": ".py",
   "mimetype": "text/x-python",
   "name": "python",
   "nbconvert_exporter": "python",
   "pygments_lexer": "ipython3",
   "version": "3.7.13"
  }
 },
 "nbformat": 4,
 "nbformat_minor": 5
}
