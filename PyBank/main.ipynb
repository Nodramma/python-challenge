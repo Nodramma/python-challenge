{
 "cells": [
  {
   "cell_type": "code",
   "execution_count": 51,
   "id": "e697da97-be82-4a0c-b1ff-23e47aacdc98",
   "metadata": {},
   "outputs": [],
   "source": [
    "# Import the pathlib and csv library\n",
    "from pathlib import Path\n",
    "import csv"
   ]
  },
  {
   "cell_type": "code",
   "execution_count": null,
   "id": "63f2d3f5-ba96-4302-8b99-77a273b21228",
   "metadata": {},
   "outputs": [],
   "source": []
  },
  {
   "cell_type": "code",
   "execution_count": null,
   "id": "9ca97001-b863-4f77-879b-48dc44f61210",
   "metadata": {},
   "outputs": [],
   "source": []
  },
  {
   "cell_type": "code",
   "execution_count": 52,
   "id": "4d408947-d526-49b7-89e4-7b65e78da919",
   "metadata": {},
   "outputs": [],
   "source": [
    "# Set the file path\n",
    "file = Path(\"./budget_data.csv\")"
   ]
  },
  {
   "cell_type": "code",
   "execution_count": 53,
   "id": "1c77af90-58ec-4e31-8c8f-b62c8fbcaf27",
   "metadata": {},
   "outputs": [],
   "source": [
    "budget_data = {} #empty dictionary"
   ]
  },
  {
   "cell_type": "code",
   "execution_count": 54,
   "id": "f43bbff2-be00-4add-9e68-974bf9a4ab80",
   "metadata": {},
   "outputs": [],
   "source": [
    "# Open the file in \"read\" mode ('r') and\n",
    "# store the contents in the variable 'csvfile'\n",
    "with open(file, 'r') as csvfile:\n",
    "    csvreader = csv.reader(csvfile)\n",
    "    \n",
    "    next(csvreader) #skip header\n",
    "    \n",
    "    for row in csvreader:\n",
    "        date = row[0]\n",
    "        profits = int(row [1])\n",
    "        budget_data[date] = profits"
   ]
  },
  {
   "cell_type": "code",
   "execution_count": 64,
   "id": "c5d36939-c06e-40d9-b671-6e692b0e734c",
   "metadata": {},
   "outputs": [],
   "source": [
    "number_of_months = len(budget_data)"
   ]
  },
  {
   "cell_type": "code",
   "execution_count": 65,
   "id": "b6a7cb4e-9f0d-46a4-9f99-89e4b87b2b23",
   "metadata": {},
   "outputs": [],
   "source": [
    "total_amount_of_profit_losses = sum(budget_data.values())"
   ]
  },
  {
   "cell_type": "code",
   "execution_count": 66,
   "id": "f25bd0fc-4cb4-4b99-98db-daae94f90b5c",
   "metadata": {},
   "outputs": [],
   "source": [
    "budget_data_diff = {}"
   ]
  },
  {
   "cell_type": "code",
   "execution_count": 67,
   "id": "23ae2a3c-44fd-4efd-bb2b-04a14e6d63f7",
   "metadata": {},
   "outputs": [],
   "source": [
    "dictionary_keys  = list(budget_data.keys())\n",
    "dictionary_values = list(budget_data.values())\n",
    "for i in range(1,len(budget_data)):\n",
    "    new_key = dictionary_keys[i] #grt the previous key at that index\n",
    "    new_value = dictionary_values[i] - dictionary_values[i-1] #the value of the index minus previus one\n",
    "    \n",
    "    budget_data_diff[new_key] = new_value"
   ]
  },
  {
   "cell_type": "code",
   "execution_count": 68,
   "id": "e0cb7190-bad1-4f69-8a84-85e4065816a1",
   "metadata": {},
   "outputs": [],
   "source": [
    "average_of_changes = sum(budget_data_diff.values()) / len(budget_data_diff)\n",
    "average_of_changes = round(average_of_changes, 2)"
   ]
  },
  {
   "cell_type": "code",
   "execution_count": 69,
   "id": "8a809d19-0672-4257-919b-b34b0957d43c",
   "metadata": {},
   "outputs": [],
   "source": [
    "average_of_changes_sorted = sorted(budget_data_diff.items(), key = lambda x: x[1])"
   ]
  },
  {
   "cell_type": "code",
   "execution_count": 70,
   "id": "28ad3141-f22a-49e4-959c-343c413df1e3",
   "metadata": {},
   "outputs": [],
   "source": [
    "worst_month, worst_profit = average_of_changes_sorted[0]\n",
    "best_month, best_profit = average_of_changes_sorted[-1]"
   ]
  },
  {
   "cell_type": "code",
   "execution_count": null,
   "id": "ec60ae2c-8a65-49ae-8432-ad1d690992e0",
   "metadata": {},
   "outputs": [],
   "source": []
  },
  {
   "cell_type": "code",
   "execution_count": 73,
   "id": "c1fdd2c9-f45c-4625-b5cd-da42a2d89d99",
   "metadata": {},
   "outputs": [],
   "source": [
    "with open('summary.txt', 'w') as f:\n",
    "    f.write(\"Financial Analysis \\n\")\n",
    "    f.write(\"------------------------------\\n\")\n",
    "    f.write(f\"Total Months: {number_of_months}\\n\")\n",
    "    f.write(f\"Total: ${total_amount_of_profit_losses}\\n\")\n",
    "    f.write(f\"Average Change: ${average_of_changes}\\n\")\n",
    "    f.write(f\"Greatest Increase in Profits: {best_month} (${best_profit})\\n\")\n",
    "    f.write(f\"Greatest Decrease in Profits: {worst_month} (${worst_profit})\\n\")"
   ]
  },
  {
   "cell_type": "code",
   "execution_count": null,
   "id": "15e7fde3-d8e3-4818-95c6-acea906f8282",
   "metadata": {},
   "outputs": [],
   "source": []
  },
  {
   "cell_type": "code",
   "execution_count": null,
   "id": "f1338123-0046-4abe-b1ab-15c5ec08181c",
   "metadata": {},
   "outputs": [],
   "source": []
  },
  {
   "cell_type": "code",
   "execution_count": null,
   "id": "8ae29696-7577-45f0-869a-c1092bf23a70",
   "metadata": {},
   "outputs": [],
   "source": []
  },
  {
   "cell_type": "code",
   "execution_count": null,
   "id": "a33a8796-325c-4036-941c-0a5c4284cb5a",
   "metadata": {},
   "outputs": [],
   "source": []
  }
 ],
 "metadata": {
  "kernelspec": {
   "display_name": "Python 3 (ipykernel)",
   "language": "python",
   "name": "python3"
  },
  "language_info": {
   "codemirror_mode": {
    "name": "ipython",
    "version": 3
   },
   "file_extension": ".py",
   "mimetype": "text/x-python",
   "name": "python",
   "nbconvert_exporter": "python",
   "pygments_lexer": "ipython3",
   "version": "3.7.13"
  }
 },
 "nbformat": 4,
 "nbformat_minor": 5
}
